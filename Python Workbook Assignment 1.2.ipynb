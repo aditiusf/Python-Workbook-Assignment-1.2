{
 "cells": [
  {
   "cell_type": "markdown",
   "metadata": {},
   "source": [
    "Import Libraries"
   ]
  },
  {
   "cell_type": "code",
   "execution_count": 2,
   "metadata": {},
   "outputs": [],
   "source": [
    "import pandas as pd"
   ]
  },
  {
   "cell_type": "markdown",
   "metadata": {},
   "source": [
    "Loading Data from Excel File"
   ]
  },
  {
   "cell_type": "code",
   "execution_count": 7,
   "metadata": {},
   "outputs": [],
   "source": [
    "df=pd.read_excel(\"WTN01.xls\")"
   ]
  },
  {
   "cell_type": "markdown",
   "metadata": {},
   "source": [
    "Display Last Three Lines of DataFrame"
   ]
  },
  {
   "cell_type": "code",
   "execution_count": 8,
   "metadata": {},
   "outputs": [
    {
     "data": {
      "text/html": [
       "<div>\n",
       "<style scoped>\n",
       "    .dataframe tbody tr th:only-of-type {\n",
       "        vertical-align: middle;\n",
       "    }\n",
       "\n",
       "    .dataframe tbody tr th {\n",
       "        vertical-align: top;\n",
       "    }\n",
       "\n",
       "    .dataframe thead th {\n",
       "        text-align: right;\n",
       "    }\n",
       "</style>\n",
       "<table border=\"1\" class=\"dataframe\">\n",
       "  <thead>\n",
       "    <tr style=\"text-align: right;\">\n",
       "      <th></th>\n",
       "      <th>Areaname</th>\n",
       "      <th>STCOU</th>\n",
       "      <th>WTN110197F</th>\n",
       "      <th>WTN110197D</th>\n",
       "      <th>WTN110197N1</th>\n",
       "      <th>WTN110197N2</th>\n",
       "      <th>WTN110202F</th>\n",
       "      <th>WTN110202D</th>\n",
       "      <th>WTN110202N1</th>\n",
       "      <th>WTN110202N2</th>\n",
       "      <th>...</th>\n",
       "      <th>WTN140202N1</th>\n",
       "      <th>WTN140202N2</th>\n",
       "      <th>WTN150197F</th>\n",
       "      <th>WTN150197D</th>\n",
       "      <th>WTN150197N1</th>\n",
       "      <th>WTN150197N2</th>\n",
       "      <th>WTN150202F</th>\n",
       "      <th>WTN150202D</th>\n",
       "      <th>WTN150202N1</th>\n",
       "      <th>WTN150202N2</th>\n",
       "    </tr>\n",
       "  </thead>\n",
       "  <tbody>\n",
       "    <tr>\n",
       "      <th>3195</th>\n",
       "      <td>Uinta, WY</td>\n",
       "      <td>56041</td>\n",
       "      <td>0</td>\n",
       "      <td>32</td>\n",
       "      <td>0</td>\n",
       "      <td>0</td>\n",
       "      <td>0</td>\n",
       "      <td>36</td>\n",
       "      <td>0</td>\n",
       "      <td>0</td>\n",
       "      <td>...</td>\n",
       "      <td>0</td>\n",
       "      <td>0</td>\n",
       "      <td>0</td>\n",
       "      <td>15389</td>\n",
       "      <td>0</td>\n",
       "      <td>0</td>\n",
       "      <td>0</td>\n",
       "      <td>13292</td>\n",
       "      <td>0</td>\n",
       "      <td>0</td>\n",
       "    </tr>\n",
       "    <tr>\n",
       "      <th>3196</th>\n",
       "      <td>Washakie, WY</td>\n",
       "      <td>56043</td>\n",
       "      <td>0</td>\n",
       "      <td>15</td>\n",
       "      <td>0</td>\n",
       "      <td>0</td>\n",
       "      <td>0</td>\n",
       "      <td>16</td>\n",
       "      <td>0</td>\n",
       "      <td>0</td>\n",
       "      <td>...</td>\n",
       "      <td>0</td>\n",
       "      <td>0</td>\n",
       "      <td>0</td>\n",
       "      <td>5067</td>\n",
       "      <td>0</td>\n",
       "      <td>0</td>\n",
       "      <td>0</td>\n",
       "      <td>6193</td>\n",
       "      <td>0</td>\n",
       "      <td>0</td>\n",
       "    </tr>\n",
       "    <tr>\n",
       "      <th>3197</th>\n",
       "      <td>Weston, WY</td>\n",
       "      <td>56045</td>\n",
       "      <td>0</td>\n",
       "      <td>6</td>\n",
       "      <td>0</td>\n",
       "      <td>0</td>\n",
       "      <td>0</td>\n",
       "      <td>4</td>\n",
       "      <td>0</td>\n",
       "      <td>0</td>\n",
       "      <td>...</td>\n",
       "      <td>0</td>\n",
       "      <td>0</td>\n",
       "      <td>0</td>\n",
       "      <td>1621</td>\n",
       "      <td>0</td>\n",
       "      <td>0</td>\n",
       "      <td>0</td>\n",
       "      <td>865</td>\n",
       "      <td>0</td>\n",
       "      <td>0</td>\n",
       "    </tr>\n",
       "  </tbody>\n",
       "</table>\n",
       "<p>3 rows × 42 columns</p>\n",
       "</div>"
      ],
      "text/plain": [
       "          Areaname  STCOU  WTN110197F  WTN110197D  WTN110197N1  WTN110197N2  \\\n",
       "3195     Uinta, WY  56041           0          32            0            0   \n",
       "3196  Washakie, WY  56043           0          15            0            0   \n",
       "3197    Weston, WY  56045           0           6            0            0   \n",
       "\n",
       "      WTN110202F  WTN110202D  WTN110202N1  WTN110202N2  ...  WTN140202N1  \\\n",
       "3195           0          36            0            0  ...            0   \n",
       "3196           0          16            0            0  ...            0   \n",
       "3197           0           4            0            0  ...            0   \n",
       "\n",
       "      WTN140202N2  WTN150197F  WTN150197D  WTN150197N1  WTN150197N2  \\\n",
       "3195            0           0       15389            0            0   \n",
       "3196            0           0        5067            0            0   \n",
       "3197            0           0        1621            0            0   \n",
       "\n",
       "      WTN150202F  WTN150202D  WTN150202N1  WTN150202N2  \n",
       "3195           0       13292            0            0  \n",
       "3196           0        6193            0            0  \n",
       "3197           0         865            0            0  \n",
       "\n",
       "[3 rows x 42 columns]"
      ]
     },
     "execution_count": 8,
     "metadata": {},
     "output_type": "execute_result"
    }
   ],
   "source": [
    "df.tail(3)"
   ]
  },
  {
   "cell_type": "code",
   "execution_count": null,
   "metadata": {},
   "outputs": [],
   "source": []
  }
 ],
 "metadata": {
  "kernelspec": {
   "display_name": "Python 3",
   "language": "python",
   "name": "python3"
  },
  "language_info": {
   "codemirror_mode": {
    "name": "ipython",
    "version": 3
   },
   "file_extension": ".py",
   "mimetype": "text/x-python",
   "name": "python",
   "nbconvert_exporter": "python",
   "pygments_lexer": "ipython3",
   "version": "3.7.6"
  }
 },
 "nbformat": 4,
 "nbformat_minor": 4
}
